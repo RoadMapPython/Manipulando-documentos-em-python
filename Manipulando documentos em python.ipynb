{
 "cells": [
  {
   "cell_type": "code",
   "execution_count": 12,
   "id": "f14b8ae2",
   "metadata": {},
   "outputs": [],
   "source": [
    "import pandas as pd\n",
    "#pip install tabula -py\n",
    "#precisa ter o java instalado\n",
    "import tabula\n",
    "#pip install python-docx\n",
    "import docx\n",
    "from docx import Document\n",
    "from docx.shared import Inches"
   ]
  },
  {
   "cell_type": "code",
   "execution_count": 9,
   "id": "17dc29d4",
   "metadata": {},
   "outputs": [
    {
     "name": "stdout",
     "output_type": "stream",
     "text": [
      "2\n"
     ]
    },
    {
     "data": {
      "text/plain": [
       "[          Produção Emissão de dióxido de carbono\n",
       " 0   (em toneladas)  (em partes por milhão - ppm)\n",
       " 1              1,1                          2,14\n",
       " 2              1,2                          2,30\n",
       " 3              1,3                          2,46\n",
       " 4              1,4                          2,64\n",
       " 5              1,5                          2,83\n",
       " 6              1,6                          3,03\n",
       " 7              1,7                          3,25\n",
       " 8              1,8                          3,48\n",
       " 9              1,9                          3,73\n",
       " 10             2,0                          4,00,\n",
       "          Mês   Cotação   Ano\n",
       " 0    Outubro  R$ 83,00  2007\n",
       " 1   Novembro  R$ 73,10  2007\n",
       " 2   Dezembro  R$ 81,60  2007\n",
       " 3    Janeiro  R$ 82,00  2008\n",
       " 4  Fevereiro  R$ 85,30  2008\n",
       " 5      Março  R$ 84,00  2008\n",
       " 6      Abril  R$ 84,60  2008]"
      ]
     },
     "metadata": {},
     "output_type": "display_data"
    },
    {
     "data": {
      "text/html": [
       "<div>\n",
       "<style scoped>\n",
       "    .dataframe tbody tr th:only-of-type {\n",
       "        vertical-align: middle;\n",
       "    }\n",
       "\n",
       "    .dataframe tbody tr th {\n",
       "        vertical-align: top;\n",
       "    }\n",
       "\n",
       "    .dataframe thead th {\n",
       "        text-align: right;\n",
       "    }\n",
       "</style>\n",
       "<table border=\"1\" class=\"dataframe\">\n",
       "  <thead>\n",
       "    <tr style=\"text-align: right;\">\n",
       "      <th></th>\n",
       "      <th>Produção</th>\n",
       "      <th>Emissão de dióxido de carbono</th>\n",
       "    </tr>\n",
       "  </thead>\n",
       "  <tbody>\n",
       "    <tr>\n",
       "      <th>0</th>\n",
       "      <td>(em toneladas)</td>\n",
       "      <td>(em partes por milhão - ppm)</td>\n",
       "    </tr>\n",
       "    <tr>\n",
       "      <th>1</th>\n",
       "      <td>1,1</td>\n",
       "      <td>2,14</td>\n",
       "    </tr>\n",
       "    <tr>\n",
       "      <th>2</th>\n",
       "      <td>1,2</td>\n",
       "      <td>2,30</td>\n",
       "    </tr>\n",
       "    <tr>\n",
       "      <th>3</th>\n",
       "      <td>1,3</td>\n",
       "      <td>2,46</td>\n",
       "    </tr>\n",
       "    <tr>\n",
       "      <th>4</th>\n",
       "      <td>1,4</td>\n",
       "      <td>2,64</td>\n",
       "    </tr>\n",
       "    <tr>\n",
       "      <th>5</th>\n",
       "      <td>1,5</td>\n",
       "      <td>2,83</td>\n",
       "    </tr>\n",
       "    <tr>\n",
       "      <th>6</th>\n",
       "      <td>1,6</td>\n",
       "      <td>3,03</td>\n",
       "    </tr>\n",
       "    <tr>\n",
       "      <th>7</th>\n",
       "      <td>1,7</td>\n",
       "      <td>3,25</td>\n",
       "    </tr>\n",
       "    <tr>\n",
       "      <th>8</th>\n",
       "      <td>1,8</td>\n",
       "      <td>3,48</td>\n",
       "    </tr>\n",
       "    <tr>\n",
       "      <th>9</th>\n",
       "      <td>1,9</td>\n",
       "      <td>3,73</td>\n",
       "    </tr>\n",
       "    <tr>\n",
       "      <th>10</th>\n",
       "      <td>2,0</td>\n",
       "      <td>4,00</td>\n",
       "    </tr>\n",
       "  </tbody>\n",
       "</table>\n",
       "</div>"
      ],
      "text/plain": [
       "          Produção Emissão de dióxido de carbono\n",
       "0   (em toneladas)  (em partes por milhão - ppm)\n",
       "1              1,1                          2,14\n",
       "2              1,2                          2,30\n",
       "3              1,3                          2,46\n",
       "4              1,4                          2,64\n",
       "5              1,5                          2,83\n",
       "6              1,6                          3,03\n",
       "7              1,7                          3,25\n",
       "8              1,8                          3,48\n",
       "9              1,9                          3,73\n",
       "10             2,0                          4,00"
      ]
     },
     "metadata": {},
     "output_type": "display_data"
    },
    {
     "data": {
      "text/html": [
       "<div>\n",
       "<style scoped>\n",
       "    .dataframe tbody tr th:only-of-type {\n",
       "        vertical-align: middle;\n",
       "    }\n",
       "\n",
       "    .dataframe tbody tr th {\n",
       "        vertical-align: top;\n",
       "    }\n",
       "\n",
       "    .dataframe thead th {\n",
       "        text-align: right;\n",
       "    }\n",
       "</style>\n",
       "<table border=\"1\" class=\"dataframe\">\n",
       "  <thead>\n",
       "    <tr style=\"text-align: right;\">\n",
       "      <th></th>\n",
       "      <th>Mês</th>\n",
       "      <th>Cotação</th>\n",
       "      <th>Ano</th>\n",
       "    </tr>\n",
       "  </thead>\n",
       "  <tbody>\n",
       "    <tr>\n",
       "      <th>0</th>\n",
       "      <td>Outubro</td>\n",
       "      <td>R$ 83,00</td>\n",
       "      <td>2007</td>\n",
       "    </tr>\n",
       "    <tr>\n",
       "      <th>1</th>\n",
       "      <td>Novembro</td>\n",
       "      <td>R$ 73,10</td>\n",
       "      <td>2007</td>\n",
       "    </tr>\n",
       "    <tr>\n",
       "      <th>2</th>\n",
       "      <td>Dezembro</td>\n",
       "      <td>R$ 81,60</td>\n",
       "      <td>2007</td>\n",
       "    </tr>\n",
       "    <tr>\n",
       "      <th>3</th>\n",
       "      <td>Janeiro</td>\n",
       "      <td>R$ 82,00</td>\n",
       "      <td>2008</td>\n",
       "    </tr>\n",
       "    <tr>\n",
       "      <th>4</th>\n",
       "      <td>Fevereiro</td>\n",
       "      <td>R$ 85,30</td>\n",
       "      <td>2008</td>\n",
       "    </tr>\n",
       "    <tr>\n",
       "      <th>5</th>\n",
       "      <td>Março</td>\n",
       "      <td>R$ 84,00</td>\n",
       "      <td>2008</td>\n",
       "    </tr>\n",
       "    <tr>\n",
       "      <th>6</th>\n",
       "      <td>Abril</td>\n",
       "      <td>R$ 84,60</td>\n",
       "      <td>2008</td>\n",
       "    </tr>\n",
       "  </tbody>\n",
       "</table>\n",
       "</div>"
      ],
      "text/plain": [
       "         Mês   Cotação   Ano\n",
       "0    Outubro  R$ 83,00  2007\n",
       "1   Novembro  R$ 73,10  2007\n",
       "2   Dezembro  R$ 81,60  2007\n",
       "3    Janeiro  R$ 82,00  2008\n",
       "4  Fevereiro  R$ 85,30  2008\n",
       "5      Março  R$ 84,00  2008\n",
       "6      Abril  R$ 84,60  2008"
      ]
     },
     "metadata": {},
     "output_type": "display_data"
    }
   ],
   "source": [
    "#Manipular Pdf\n",
    "\n",
    "tabelas=tabula.read_pdf(\"estatistica_enem.pdf\", pages=[2,4,8],  multiple_tables=True)\n",
    "print(len(tabelas))\n",
    "display(tabelas)\n",
    "\n",
    "for tabela in tabelas:\n",
    "    display(tabela)"
   ]
  },
  {
   "cell_type": "code",
   "execution_count": 1,
   "id": "2b5ca952",
   "metadata": {},
   "outputs": [],
   "source": [
    "from pdfminer.high_level import extract_text\n",
    "text=extract_text(\"estatistica_enem.pdf\")\n",
    "print(text)"
   ]
  },
  {
   "cell_type": "code",
   "execution_count": 2,
   "id": "f607b9a2",
   "metadata": {},
   "outputs": [
    {
     "ename": "NameError",
     "evalue": "name 'tabula' is not defined",
     "output_type": "error",
     "traceback": [
      "\u001b[1;31m---------------------------------------------------------------------------\u001b[0m",
      "\u001b[1;31mNameError\u001b[0m                                 Traceback (most recent call last)",
      "Input \u001b[1;32mIn [2]\u001b[0m, in \u001b[0;36m<module>\u001b[1;34m\u001b[0m\n\u001b[1;32m----> 1\u001b[0m \u001b[43mtabula\u001b[49m\u001b[38;5;241m.\u001b[39mconvert_into(\u001b[38;5;124m\"\u001b[39m\u001b[38;5;124mestatistica_enem.pdf\u001b[39m\u001b[38;5;124m\"\u001b[39m, \u001b[38;5;124m\"\u001b[39m\u001b[38;5;124mexcel.csv\u001b[39m\u001b[38;5;124m\"\u001b[39m, output_format\u001b[38;5;241m=\u001b[39m\u001b[38;5;124m\"\u001b[39m\u001b[38;5;124mcsv\u001b[39m\u001b[38;5;124m\"\u001b[39m, pages\u001b[38;5;241m=\u001b[39m\u001b[38;5;124m\"\u001b[39m\u001b[38;5;124m18\u001b[39m\u001b[38;5;124m\"\u001b[39m)\n",
      "\u001b[1;31mNameError\u001b[0m: name 'tabula' is not defined"
     ]
    }
   ],
   "source": [
    "tabula.convert_into(\"estatistica_enem.pdf\", \"excel.csv\", output_format=\"csv\", pages=\"18\")"
   ]
  },
  {
   "cell_type": "code",
   "execution_count": null,
   "id": "7d6eba93",
   "metadata": {},
   "outputs": [],
   "source": [
    "#Manipulando arquivos excel\n",
    "ler=pd.read_csv(\"excel.csv\", encoding=\"utf-8\")\n",
    "ler.to_excel(\"excel.xlsx\", index=None, header=True)"
   ]
  },
  {
   "cell_type": "code",
   "execution_count": null,
   "id": "5f0920c3",
   "metadata": {},
   "outputs": [
    {
     "data": {
      "text/html": [
       "<div>\n",
       "<style scoped>\n",
       "    .dataframe tbody tr th:only-of-type {\n",
       "        vertical-align: middle;\n",
       "    }\n",
       "\n",
       "    .dataframe tbody tr th {\n",
       "        vertical-align: top;\n",
       "    }\n",
       "\n",
       "    .dataframe thead th {\n",
       "        text-align: right;\n",
       "    }\n",
       "</style>\n",
       "<table border=\"1\" class=\"dataframe\">\n",
       "  <thead>\n",
       "    <tr style=\"text-align: right;\">\n",
       "      <th></th>\n",
       "      <th>Candidato</th>\n",
       "      <th>Quimica</th>\n",
       "      <th>Fisica</th>\n",
       "    </tr>\n",
       "  </thead>\n",
       "  <tbody>\n",
       "    <tr>\n",
       "      <th>0</th>\n",
       "      <td>I</td>\n",
       "      <td>20</td>\n",
       "      <td>23</td>\n",
       "    </tr>\n",
       "    <tr>\n",
       "      <th>1</th>\n",
       "      <td>II</td>\n",
       "      <td>x</td>\n",
       "      <td>25</td>\n",
       "    </tr>\n",
       "    <tr>\n",
       "      <th>2</th>\n",
       "      <td>III</td>\n",
       "      <td>21</td>\n",
       "      <td>18</td>\n",
       "    </tr>\n",
       "  </tbody>\n",
       "</table>\n",
       "</div>"
      ],
      "text/plain": [
       "  Candidato Quimica  Fisica\n",
       "0         I      20      23\n",
       "1        II       x      25\n",
       "2       III      21      18"
      ]
     },
     "metadata": {},
     "output_type": "display_data"
    }
   ],
   "source": [
    "tabela_excel=pd.read_excel(\"excel.xlsx\")\n",
    "display(tabela_excel)"
   ]
  },
  {
   "cell_type": "code",
   "execution_count": null,
   "id": "46952271",
   "metadata": {},
   "outputs": [
    {
     "data": {
      "text/html": [
       "<div>\n",
       "<style scoped>\n",
       "    .dataframe tbody tr th:only-of-type {\n",
       "        vertical-align: middle;\n",
       "    }\n",
       "\n",
       "    .dataframe tbody tr th {\n",
       "        vertical-align: top;\n",
       "    }\n",
       "\n",
       "    .dataframe thead th {\n",
       "        text-align: right;\n",
       "    }\n",
       "</style>\n",
       "<table border=\"1\" class=\"dataframe\">\n",
       "  <thead>\n",
       "    <tr style=\"text-align: right;\">\n",
       "      <th></th>\n",
       "      <th>Candidato</th>\n",
       "      <th>Quimica</th>\n",
       "      <th>Fisica</th>\n",
       "    </tr>\n",
       "  </thead>\n",
       "  <tbody>\n",
       "    <tr>\n",
       "      <th>0</th>\n",
       "      <td>I</td>\n",
       "      <td>20</td>\n",
       "      <td>23</td>\n",
       "    </tr>\n",
       "    <tr>\n",
       "      <th>1</th>\n",
       "      <td>II</td>\n",
       "      <td>20</td>\n",
       "      <td>25</td>\n",
       "    </tr>\n",
       "    <tr>\n",
       "      <th>2</th>\n",
       "      <td>III</td>\n",
       "      <td>21</td>\n",
       "      <td>18</td>\n",
       "    </tr>\n",
       "  </tbody>\n",
       "</table>\n",
       "</div>"
      ],
      "text/plain": [
       "  Candidato  Quimica  Fisica\n",
       "0         I       20      23\n",
       "1        II       20      25\n",
       "2       III       21      18"
      ]
     },
     "metadata": {},
     "output_type": "display_data"
    }
   ],
   "source": [
    "#[Linhas,colunas]\n",
    "tabela_excel.loc[tabela_excel['Fisica']==25,\"Quimica\"]=20\n",
    "tabela_excel.to_excel('table2.xlsx')\n",
    "Outro=pd.read_excel('table2.xlsx', index_col=0)\n",
    "\n",
    "display(Outro)"
   ]
  },
  {
   "cell_type": "code",
   "execution_count": null,
   "id": "8172306d",
   "metadata": {},
   "outputs": [
    {
     "data": {
      "text/plain": [
       "'De tudo, ao meu amor serei atento'"
      ]
     },
     "execution_count": 37,
     "metadata": {},
     "output_type": "execute_result"
    }
   ],
   "source": [
    "#Manipulando documento word existente\n",
    "\n",
    "document=docx.Document(\"Poema.docx\")\n",
    "document.paragraphs[0].text\n",
    "document.paragraphs[0].runs[0].text"
   ]
  },
  {
   "cell_type": "code",
   "execution_count": null,
   "id": "48123494",
   "metadata": {},
   "outputs": [
    {
     "name": "stdout",
     "output_type": "stream",
     "text": [
      "Que titulo desejaComo fazer pudim\n"
     ]
    }
   ],
   "source": [
    "# Criando um documento word e adicionando coisas\n",
    "\n",
    "documento=Document()\n",
    "titulo=input(\"Que titulo deseja\")\n",
    "documento.add_heading(titulo,0)\n",
    "documento.add_heading(\"Pudim de caramelo\", level=1)\n",
    "\n",
    "documento.add_picture(\"pudimdecaramelo.jpg\", width=docx.shared.Inches(6), height=docx.shared.Cm(9))\n",
    "\n",
    "documento.add_paragraph(\"Confeitarias Juan\", style='Intense Quote')\n",
    "documento.add_paragraph(\"Ingredientes\", style=\"List Bullet\")\n",
    "documento.add_paragraph(\"1 lata de leite condensado\", style=\"List Number\")\n",
    "documento.add_paragraph(\"1 litro de leite\", style='List Number')\n",
    "documento.add_paragraph(\"4 ovos inteiros\", style='List Number')\n",
    "documento.save(\"documento.docx\")"
   ]
  },
  {
   "cell_type": "code",
   "execution_count": null,
   "id": "a05a45ae",
   "metadata": {},
   "outputs": [],
   "source": []
  }
 ],
 "metadata": {
  "kernelspec": {
   "display_name": "Python 3 (ipykernel)",
   "language": "python",
   "name": "python3"
  },
  "language_info": {
   "codemirror_mode": {
    "name": "ipython",
    "version": 3
   },
   "file_extension": ".py",
   "mimetype": "text/x-python",
   "name": "python",
   "nbconvert_exporter": "python",
   "pygments_lexer": "ipython3",
   "version": "3.9.5"
  }
 },
 "nbformat": 4,
 "nbformat_minor": 5
}
